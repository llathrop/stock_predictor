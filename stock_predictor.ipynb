{
 "cells": [
  {
   "cell_type": "markdown",
   "metadata": {},
   "source": [
    "# Investment and Trading Capstone Project\n",
    "## Build a Stock Price Indicator\n",
    "### Udacity - Machine Learning - Nanodegree  \n",
    "\n",
    "Description\n",
    "\n",
    "Investment firms, hedge funds and even individuals have been using financial models to better understand market behavior and make profitable investments and trades. A wealth of information is available in the form of historical stock prices and company performance data, suitable for machine learning algorithms to process.\n",
    "\n",
    "For this project, your task is to build a stock price predictor that takes daily trading data over a certain date range as input, and outputs projected estimates for given query dates. Note that the inputs will contain multiple metrics, such as opening price (Open), highest price the stock traded at (High), how many stocks were traded (Volume) and closing price adjusted for stock splits and dividends (Adjusted Close); your system only needs to predict the Adjusted Close price.\n",
    "\n",
    "You are free to choose what form your project takes (a simple script, a web app/service, Android/iOS app, etc.), and any additions/modifications you want to make to the project (e.g. suggesting what trades to make). Make sure you document your intended features in your report.\n",
    "\n",
    "https://docs.google.com/document/d/1ycGeb1QYKATG6jvz74SAMqxrlek9Ed4RYrzWNhWS-0Q/pub"
   ]
  },
  {
   "cell_type": "code",
   "execution_count": 18,
   "metadata": {
    "collapsed": false
   },
   "outputs": [
    {
     "name": "stdout",
     "output_type": "stream",
     "text": [
      "HelloWorld! We have imported what we want!\n"
     ]
    }
   ],
   "source": [
    "import math,string,sys,os\n",
    "\n",
    "import datetime as DT\n",
    "import numpy as np\n",
    "import pandas as pd\n",
    "\n",
    "import matplotlib.pyplot as plt\n",
    "from matplotlib.dates import date2num, num2date\n",
    "from IPython.display import display, Image\n",
    "\n",
    "from sklearn.cross_validation import train_test_split, StratifiedShuffleSplit\n",
    "from sklearn.linear_model import LogisticRegression\n",
    "from sklearn.cluster import KMeans\n",
    "from sklearn.naive_bayes import GaussianNB\n",
    "from sklearn.tree import DecisionTreeClassifier\n",
    "from sklearn.neighbors import KNeighborsClassifier\n",
    "from sklearn.svm import SVC, LinearSVC\n",
    "from sklearn import linear_model, decomposition, datasets, ensemble\n",
    "from sklearn.pipeline import Pipeline\n",
    "from sklearn.grid_search import GridSearchCV\n",
    "from sklearn.metrics import make_scorer,precision_score, recall_score, f1_score, average_precision_score, accuracy_score\n",
    "\n",
    "from yahoo_finance import Share,Currency\n",
    "\n",
    "%matplotlib inline\n",
    "\n",
    "print \"HelloWorld! We have imported what we want!\""
   ]
  },
  {
   "cell_type": "markdown",
   "metadata": {},
   "source": [
    "## some function definitions "
   ]
  },
  {
   "cell_type": "code",
   "execution_count": 38,
   "metadata": {
    "collapsed": true
   },
   "outputs": [],
   "source": [
    "def runPredict(clf,data, display=True):\n",
    "    index=random.randrange(len(data))\n",
    "    y_pred = clf.predict_proba(data[index].reshape(1, -1))[0]\n",
    "    if display==True:\n",
    "        print \"for:\",data[index], \"\\nprediction:\",y_pred\n",
    "    return y_pred\n",
    "\n",
    "def train_classifier(clf, X_train, y_train):\n",
    "    start = time.time()\n",
    "    clf.fit(X_train, y_train)\n",
    "    end = time.time()\n",
    "    return end - start\n",
    "    #print \"Done!\\nTraining time (secs): {:.3f}\".format(end - start)\n",
    "    \n",
    "# Predict on training set and compute F1 score\n",
    "def predict_labels(clf, features, target):\n",
    "    #print \"Predicting labels using {}...\".format(clf.__class__.__name__)\n",
    "    start = time.time()\n",
    "    y_pred = clf.predict(features)\n",
    "    end = time.time()\n",
    "    #print \"Done!\\nPrediction time (secs): {:.3f}\".format(end - start)\n",
    "    return f1_score(target, y_pred,average='micro'),end - start #(None, 'micro', 'macro', 'weighted', 'samples')\n",
    "\n",
    "# Train and predict using different training set sizes\n",
    "def train_predict(clf, X_train, y_train, X_test, y_test):\n",
    "\n",
    "    timeTrain=train_classifier(clf, X_train, y_train)\n",
    "    predict_train,trainDelta=predict_labels(clf, X_train, y_train)\n",
    "    predict_test,testDelta=predict_labels(clf, X_test, y_test)\n",
    "    return predict_test,testDelta,predict_train,trainDelta,timeTrain # let's return the scores, so we can use them for comparisons\n",
    "\n",
    "#for each data set size run and plot a train/test\n",
    "def runTests(test_sizes, train_dataset,train_labels,test_dataset,test_labels, clf=\"\", usePCA=False):\n",
    "    test_f1=[]\n",
    "    train_f1=[]\n",
    "\n",
    "    for test_size in test_sizes:\n",
    "        # Set up the train set for the test size\n",
    "        X_train=train_dataset[:test_size]\n",
    "        y_train=train_labels[:test_size]\n",
    "        # Same for test\n",
    "        X_test=test_dataset[-test_size:]\n",
    "        y_test=test_labels[-test_size:]\n",
    "\n",
    " \n",
    "        if clf == \"\":\n",
    "            clf=LogisticRegression(multi_class='multinomial', solver='lbfgs', random_state=42,  max_iter=200,C=.1, n_jobs = -1)\n",
    "            \n",
    "        if usePCA ==True:\n",
    "            pca=decomposition.PCA(n_components = 14*14)\n",
    "            clf=Pipeline(steps=[('pca', pca), ('classifier', clf )]) # set up the clf as a pipeline ])\n",
    "        # Fit model to training data\n",
    "        test,testDelta,train,trainDelta,timeTrain = train_predict(clf, X_train, y_train, X_test, y_test)\n",
    "        test_f1.append(test)\n",
    "        train_f1.append(train)\n",
    "        print (\"------------------------------------------\")\n",
    "        print (\"Training set size: {},\".format(len(X_train)),\"Train time (secs): {:.3f}\".format(timeTrain))\n",
    "        print (\"F1 score for training set: {},\".format(train),\"Prediction time (secs): {:.3f}\".format(trainDelta))\n",
    "        print (\"F1 score for test set: {},\".format(test),\"Prediction time (secs): {:.3f}\".format(testDelta))\n",
    "\n",
    "    \n",
    "    print (\"\\n\",clf)\n",
    "    print(\"Test F1:{}\".format(test_f1))\n",
    "    display(\"Train F1:{}\".format(train_f1))\n",
    "    plt.plot(test_f1,label=\"Test F1\")\n",
    "    plt.plot(train_f1,label=\"Train F1\")\n",
    "    plt.legend(loc=2)\n",
    "    plt.title(\"F1 Score per run\")\n",
    "    plt.show()\n",
    "    \n",
    "    return clf    "
   ]
  },
  {
   "cell_type": "code",
   "execution_count": 39,
   "metadata": {
    "collapsed": true
   },
   "outputs": [],
   "source": [
    "# display the basic stock info\n",
    "def display_stock_info(stock):\n",
    "    print \"date/time:\", stock.get_trade_datetime()\n",
    "    print \"current_price:\", stock.get_price()\n",
    "    print \"volume:\",stock.get_volume()\n",
    "    print \"open:\",stock.get_open()\n",
    "    print \"high:\",stock.get_days_high()\n",
    "    print \"low:\",stock.get_days_low()\n",
    "    print \"market cap:\",stock.get_market_cap()\n",
    "    print \"P/E ratio:\",stock.get_price_earnings_ratio()\n",
    "    print \"div yield:\",stock.get_dividend_yield()"
   ]
  },
  {
   "cell_type": "code",
   "execution_count": 41,
   "metadata": {
    "collapsed": false
   },
   "outputs": [
    {
     "name": "stdout",
     "output_type": "stream",
     "text": [
      "Success?\n",
      "{'symbol': 'THR'}\n",
      "date/time: 2016-09-28 18:16:00 UTC+0000\n",
      "current_price: 19.11\n",
      "volume: 25622\n",
      "open: 18.88\n",
      "high: 19.13\n",
      "low: 18.88\n",
      "market cap: 616.43M\n",
      "P/E ratio: 29.40\n",
      "div yield: None\n"
     ]
    }
   ],
   "source": [
    "try:\n",
    "    stock = Share('THR')\n",
    "    print \"Success?\"\n",
    "    print stock.get_info()\n",
    "except Exception as e:\n",
    "    print (\"Data could not be loaded:\")\n",
    "    print(e)   \n",
    "    \n",
    "display_stock_info(stock)"
   ]
  },
  {
   "cell_type": "code",
   "execution_count": 42,
   "metadata": {
    "collapsed": false
   },
   "outputs": [
    {
     "name": "stdout",
     "output_type": "stream",
     "text": [
      "Data refreshed\n",
      "date/time: 2016-09-28 20:02:00 UTC+0000\n",
      "current_price: 19.26\n",
      "volume: 74244\n",
      "open: 18.88\n",
      "high: 19.29\n",
      "low: 18.88\n",
      "market cap: 621.27M\n",
      "P/E ratio: 29.63\n",
      "div yield: None\n"
     ]
    }
   ],
   "source": [
    "try:\n",
    "    stock.refresh()\n",
    "    print \"Data refreshed\"\n",
    "except Exception as e:\n",
    "    print (\"Data could not be loaded:\")\n",
    "    print(\"error\",e)  \n",
    "\n",
    "display_stock_info(stock)"
   ]
  },
  {
   "cell_type": "code",
   "execution_count": null,
   "metadata": {
    "collapsed": false
   },
   "outputs": [],
   "source": [
    "hist_begin='2011-09-28'\n",
    "hist_end='2016-09-28'\n",
    "try:\n",
    "    stock_get_historical=stock.get_historical(hist_begin, hist_end)\n",
    "    print \"Historical data collected\"\n",
    "except Exception as e:\n",
    "    print (\"Data could not be loaded:\")\n",
    "    print(\"error\",e)  "
   ]
  },
  {
   "cell_type": "code",
   "execution_count": 34,
   "metadata": {
    "collapsed": false
   },
   "outputs": [
    {
     "name": "stdout",
     "output_type": "stream",
     "text": [
      "<class 'pandas.core.frame.DataFrame'>\n",
      "Int64Index: 1258 entries, 0 to 1257\n",
      "Data columns (total 8 columns):\n",
      "Adj_Close    1258 non-null float64\n",
      "Close        1258 non-null float64\n",
      "Date         1258 non-null datetime64[ns]\n",
      "High         1258 non-null float64\n",
      "Low          1258 non-null float64\n",
      "Open         1258 non-null float64\n",
      "Symbol       1258 non-null object\n",
      "Volume       1258 non-null int64\n",
      "dtypes: datetime64[ns](1), float64(5), int64(1), object(1)\n",
      "memory usage: 88.5+ KB\n",
      "None\n"
     ]
    },
    {
     "data": {
      "text/html": [
       "<div>\n",
       "<table border=\"1\" class=\"dataframe\">\n",
       "  <thead>\n",
       "    <tr style=\"text-align: right;\">\n",
       "      <th></th>\n",
       "      <th>Adj_Close</th>\n",
       "      <th>Close</th>\n",
       "      <th>Date</th>\n",
       "      <th>High</th>\n",
       "      <th>Low</th>\n",
       "      <th>Open</th>\n",
       "      <th>Symbol</th>\n",
       "      <th>Volume</th>\n",
       "    </tr>\n",
       "  </thead>\n",
       "  <tbody>\n",
       "    <tr>\n",
       "      <th>0</th>\n",
       "      <td>18.830000</td>\n",
       "      <td>18.830000</td>\n",
       "      <td>2016-09-27</td>\n",
       "      <td>18.870001</td>\n",
       "      <td>18.530001</td>\n",
       "      <td>18.570000</td>\n",
       "      <td>THR</td>\n",
       "      <td>65300</td>\n",
       "    </tr>\n",
       "    <tr>\n",
       "      <th>1</th>\n",
       "      <td>18.660000</td>\n",
       "      <td>18.660000</td>\n",
       "      <td>2016-09-26</td>\n",
       "      <td>18.799999</td>\n",
       "      <td>18.580000</td>\n",
       "      <td>18.790001</td>\n",
       "      <td>THR</td>\n",
       "      <td>99600</td>\n",
       "    </tr>\n",
       "    <tr>\n",
       "      <th>2</th>\n",
       "      <td>18.780001</td>\n",
       "      <td>18.780001</td>\n",
       "      <td>2016-09-23</td>\n",
       "      <td>19.420000</td>\n",
       "      <td>18.770000</td>\n",
       "      <td>19.150000</td>\n",
       "      <td>THR</td>\n",
       "      <td>121800</td>\n",
       "    </tr>\n",
       "    <tr>\n",
       "      <th>3</th>\n",
       "      <td>19.219999</td>\n",
       "      <td>19.219999</td>\n",
       "      <td>2016-09-22</td>\n",
       "      <td>19.230000</td>\n",
       "      <td>18.910000</td>\n",
       "      <td>19.030001</td>\n",
       "      <td>THR</td>\n",
       "      <td>97000</td>\n",
       "    </tr>\n",
       "  </tbody>\n",
       "</table>\n",
       "</div>"
      ],
      "text/plain": [
       "   Adj_Close      Close       Date       High        Low       Open Symbol  \\\n",
       "0  18.830000  18.830000 2016-09-27  18.870001  18.530001  18.570000    THR   \n",
       "1  18.660000  18.660000 2016-09-26  18.799999  18.580000  18.790001    THR   \n",
       "2  18.780001  18.780001 2016-09-23  19.420000  18.770000  19.150000    THR   \n",
       "3  19.219999  19.219999 2016-09-22  19.230000  18.910000  19.030001    THR   \n",
       "\n",
       "   Volume  \n",
       "0   65300  \n",
       "1   99600  \n",
       "2  121800  \n",
       "3   97000  "
      ]
     },
     "metadata": {},
     "output_type": "display_data"
    }
   ],
   "source": [
    "def get_historical_df(stock_get_historical):\n",
    "    stock_hist=pd.DataFrame(stock_get_historical)\n",
    "    # set the data types\n",
    "    stock_hist['Date']=pd.to_datetime(stock_hist['Date'] )\n",
    "    stock_hist['Adj_Close'] = stock_hist.Adj_Close.astype(np.float)\n",
    "    stock_hist['Close'] = stock_hist.Close.astype(np.float)\n",
    "    stock_hist['High'] = stock_hist.High.astype(np.float)\n",
    "    stock_hist['Low'] = stock_hist.Low.astype(np.float)\n",
    "    stock_hist['Open'] = stock_hist.Open.astype(np.float)\n",
    "    stock_hist['Volume'] = stock_hist.Volume.astype(np.int64)\n",
    "    \n",
    "    #Demo how to change the date to be a num\n",
    "    #stock_hist['Date'] = stock_hist.Date.astype(np.int64)\n",
    "    #stock_hist['Date']=pd.to_datetime(stock_hist['Date'] )\n",
    "    return stock_hist\n",
    "\n",
    "stock_hist=get_historical_df(stock_get_historical)\n",
    "print stock_hist.info()\n",
    "display(stock_hist.head(4))"
   ]
  },
  {
   "cell_type": "code",
   "execution_count": 33,
   "metadata": {
    "collapsed": false
   },
   "outputs": [
    {
     "data": {
      "image/png": "[encoded data removed]",
      "text/plain": [
       "<matplotlib.figure.Figure at 0xc75a198>"
      ]
     },
     "metadata": {},
     "output_type": "display_data"
    }
   ],
   "source": [
    "#x = [date2num(date) for (date, value) in Adj_Close_historical]\n",
    "x = stock_hist['Date']\n",
    "#y = [value for (date, value) in Adj_Close_historical]\n",
    "y = stock_hist['Adj_Close']\n",
    "\n",
    "fig = plt.figure(figsize=(18,6))\n",
    "graph = fig.add_subplot(111)\n",
    "# Plot the data as a red line with round markers\n",
    "graph.plot(x,y,'b-o')\n",
    "# Set the labels for the xticks used to cooresponding date \n",
    "ticklabels= [num2date(i).strftime(\"%Y-%m-%d\") for i in graph.get_xticks().tolist()]\n",
    "graph.set_xticklabels(ticklabels)\n",
    "\n",
    "plt.show()\n",
    "plt.close()"
   ]
  },
  {
   "cell_type": "code",
   "execution_count": 37,
   "metadata": {
    "collapsed": false
   },
   "outputs": [
    {
     "name": "stdout",
     "output_type": "stream",
     "text": [
      "<class 'pandas.core.frame.DataFrame'>\n",
      "Int64Index: 1258 entries, 0 to 1257\n",
      "Data columns (total 7 columns):\n",
      "Adj_Close    1258 non-null float64\n",
      "Close        1258 non-null float64\n",
      "Date         1258 non-null datetime64[ns]\n",
      "High         1258 non-null float64\n",
      "Low          1258 non-null float64\n",
      "Open         1258 non-null float64\n",
      "Volume       1258 non-null int64\n",
      "dtypes: datetime64[ns](1), float64(5), int64(1)\n",
      "memory usage: 78.6 KB\n",
      "None\n"
     ]
    },
    {
     "data": {
      "text/html": [
       "<div>\n",
       "<table border=\"1\" class=\"dataframe\">\n",
       "  <thead>\n",
       "    <tr style=\"text-align: right;\">\n",
       "      <th></th>\n",
       "      <th>Adj_Close</th>\n",
       "      <th>Close</th>\n",
       "      <th>Date</th>\n",
       "      <th>High</th>\n",
       "      <th>Low</th>\n",
       "      <th>Open</th>\n",
       "      <th>Volume</th>\n",
       "    </tr>\n",
       "  </thead>\n",
       "  <tbody>\n",
       "    <tr>\n",
       "      <th>0</th>\n",
       "      <td>18.830000</td>\n",
       "      <td>18.830000</td>\n",
       "      <td>2016-09-27</td>\n",
       "      <td>18.870001</td>\n",
       "      <td>18.530001</td>\n",
       "      <td>18.570000</td>\n",
       "      <td>65300</td>\n",
       "    </tr>\n",
       "    <tr>\n",
       "      <th>1</th>\n",
       "      <td>18.660000</td>\n",
       "      <td>18.660000</td>\n",
       "      <td>2016-09-26</td>\n",
       "      <td>18.799999</td>\n",
       "      <td>18.580000</td>\n",
       "      <td>18.790001</td>\n",
       "      <td>99600</td>\n",
       "    </tr>\n",
       "    <tr>\n",
       "      <th>2</th>\n",
       "      <td>18.780001</td>\n",
       "      <td>18.780001</td>\n",
       "      <td>2016-09-23</td>\n",
       "      <td>19.420000</td>\n",
       "      <td>18.770000</td>\n",
       "      <td>19.150000</td>\n",
       "      <td>121800</td>\n",
       "    </tr>\n",
       "    <tr>\n",
       "      <th>3</th>\n",
       "      <td>19.219999</td>\n",
       "      <td>19.219999</td>\n",
       "      <td>2016-09-22</td>\n",
       "      <td>19.230000</td>\n",
       "      <td>18.910000</td>\n",
       "      <td>19.030001</td>\n",
       "      <td>97000</td>\n",
       "    </tr>\n",
       "  </tbody>\n",
       "</table>\n",
       "</div>"
      ],
      "text/plain": [
       "   Adj_Close      Close       Date       High        Low       Open  Volume\n",
       "0  18.830000  18.830000 2016-09-27  18.870001  18.530001  18.570000   65300\n",
       "1  18.660000  18.660000 2016-09-26  18.799999  18.580000  18.790001   99600\n",
       "2  18.780001  18.780001 2016-09-23  19.420000  18.770000  19.150000  121800\n",
       "3  19.219999  19.219999 2016-09-22  19.230000  18.910000  19.030001   97000"
      ]
     },
     "metadata": {},
     "output_type": "display_data"
    }
   ],
   "source": [
    "stock_hist.drop(['Symbol'],1,inplace=True)\n",
    "print stock_hist.info()\n",
    "display(stock_hist.head(4))"
   ]
  },
  {
   "cell_type": "markdown",
   "metadata": {},
   "source": [
    "### EOF"
   ]
  }
 ],
 "metadata": {
  "kernelspec": {
   "display_name": "Python 2",
   "language": "python",
   "name": "python2"
  },
  "language_info": {
   "codemirror_mode": {
    "name": "ipython",
    "version": 2
   },
   "file_extension": ".py",
   "mimetype": "text/x-python",
   "name": "python",
   "nbconvert_exporter": "python",
   "pygments_lexer": "ipython2",
   "version": "2.7.11"
  }
 },
 "nbformat": 4,
 "nbformat_minor": 0
}
