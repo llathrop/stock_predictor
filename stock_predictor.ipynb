{
 "cells": [
  {
   "cell_type": "code",
   "execution_count": 1,
   "metadata": {
    "collapsed": false
   },
   "outputs": [
    {
     "name": "stdout",
     "output_type": "stream",
     "text": [
      "HelloWorld! We have imported what we want!\n"
     ]
    }
   ],
   "source": [
    "import math\n",
    "import string\n",
    "import sys\n",
    "import os\n",
    "\n",
    "#sys.path.append(\"./udacity-ud120/\")\n",
    "#from mystatslib import *\n",
    "import datetime as DT\n",
    "import numpy as np\n",
    "import pandas as pd\n",
    "import matplotlib.pyplot as plt\n",
    "from matplotlib.dates import date2num\n",
    "from matplotlib.dates import num2date\n",
    "from IPython.display import display, Image\n",
    "\n",
    "from yahoo_finance import Share\n",
    "from yahoo_finance import Currency\n",
    "\n",
    "%matplotlib inline\n",
    "\n",
    "print \"HelloWorld! We have imported what we want!\""
   ]
  },
  {
   "cell_type": "code",
   "execution_count": 2,
   "metadata": {
    "collapsed": false
   },
   "outputs": [
    {
     "name": "stdout",
     "output_type": "stream",
     "text": [
      "Success?\n",
      "{'symbol': 'THR'}\n"
     ]
    }
   ],
   "source": [
    "try:\n",
    "    stock = Share('THR')\n",
    "    print \"Success?\"\n",
    "    print stock.get_info()\n",
    "except Exception as e:\n",
    "    print (\"Data could not be loaded:\")\n",
    "    print(e)    "
   ]
  },
  {
   "cell_type": "code",
   "execution_count": 3,
   "metadata": {
    "collapsed": false
   },
   "outputs": [
    {
     "name": "stdout",
     "output_type": "stream",
     "text": [
      "date/time: 2016-09-28 18:16:00 UTC+0000\n",
      "current_price: 19.11\n",
      "volume: 25622\n",
      "open: 18.88\n",
      "high: 19.13\n",
      "low: 18.88\n",
      "market cap: 616.43M\n",
      "P/E ratio: 29.40\n",
      "div yield: None\n"
     ]
    }
   ],
   "source": [
    "def display_stock_info(stock):\n",
    "    print \"date/time:\", stock.get_trade_datetime()\n",
    "    print \"current_price:\", stock.get_price()\n",
    "    print \"volume:\",stock.get_volume()\n",
    "    print \"open:\",stock.get_open()\n",
    "    print \"high:\",stock.get_days_high()\n",
    "    print \"low:\",stock.get_days_low()\n",
    "    print \"market cap:\",stock.get_market_cap()\n",
    "    print \"P/E ratio:\",stock.get_price_earnings_ratio()\n",
    "    print \"div yield:\",stock.get_dividend_yield()\n",
    "    \n",
    "display_stock_info(stock)\n"
   ]
  },
  {
   "cell_type": "code",
   "execution_count": 4,
   "metadata": {
    "collapsed": false
   },
   "outputs": [
    {
     "name": "stdout",
     "output_type": "stream",
     "text": [
      "Data refreshed\n",
      "date/time: 2016-09-28 18:16:00 UTC+0000\n",
      "current_price: 19.11\n",
      "volume: 25622\n",
      "open: 18.88\n",
      "high: 19.13\n",
      "low: 18.88\n",
      "market cap: 616.43M\n",
      "P/E ratio: 29.40\n",
      "div yield: None\n"
     ]
    }
   ],
   "source": [
    "try:\n",
    "    stock.refresh()\n",
    "    print \"Data refreshed\"\n",
    "except Exception as e:\n",
    "    print (\"Data could not be loaded:\")\n",
    "    print(\"error\",e)  \n",
    "\n",
    "\n",
    "display_stock_info(stock)"
   ]
  },
  {
   "cell_type": "code",
   "execution_count": 9,
   "metadata": {
    "collapsed": false
   },
   "outputs": [
    {
     "name": "stdout",
     "output_type": "stream",
     "text": [
      "Historical data collected\n"
     ]
    }
   ],
   "source": [
    "hist_begin='2015-09-28'\n",
    "hist_end='2016-09-28'\n",
    "try:\n",
    "    stock_historical=stock.get_historical(hist_begin, hist_end)\n",
    "    print \"Historical data collected\"\n",
    "except Exception as e:\n",
    "    print (\"Data could not be loaded:\")\n",
    "    print(\"error\",e)  \n",
    "  \n"
   ]
  },
  {
   "cell_type": "code",
   "execution_count": 6,
   "metadata": {
    "collapsed": false
   },
   "outputs": [
    {
     "data": {
      "text/html": [
       "<div>\n",
       "<table border=\"1\" class=\"dataframe\">\n",
       "  <thead>\n",
       "    <tr style=\"text-align: right;\">\n",
       "      <th></th>\n",
       "      <th>Adj_Close</th>\n",
       "      <th>Close</th>\n",
       "      <th>Date</th>\n",
       "      <th>High</th>\n",
       "      <th>Low</th>\n",
       "      <th>Open</th>\n",
       "      <th>Symbol</th>\n",
       "      <th>Volume</th>\n",
       "    </tr>\n",
       "  </thead>\n",
       "  <tbody>\n",
       "    <tr>\n",
       "      <th>0</th>\n",
       "      <td>18.83</td>\n",
       "      <td>18.83</td>\n",
       "      <td>2016-09-27</td>\n",
       "      <td>18.870001</td>\n",
       "      <td>18.530001</td>\n",
       "      <td>18.57</td>\n",
       "      <td>THR</td>\n",
       "      <td>65300</td>\n",
       "    </tr>\n",
       "    <tr>\n",
       "      <th>1</th>\n",
       "      <td>18.66</td>\n",
       "      <td>18.66</td>\n",
       "      <td>2016-09-26</td>\n",
       "      <td>18.799999</td>\n",
       "      <td>18.58</td>\n",
       "      <td>18.790001</td>\n",
       "      <td>THR</td>\n",
       "      <td>99600</td>\n",
       "    </tr>\n",
       "    <tr>\n",
       "      <th>2</th>\n",
       "      <td>18.780001</td>\n",
       "      <td>18.780001</td>\n",
       "      <td>2016-09-23</td>\n",
       "      <td>19.42</td>\n",
       "      <td>18.77</td>\n",
       "      <td>19.15</td>\n",
       "      <td>THR</td>\n",
       "      <td>121800</td>\n",
       "    </tr>\n",
       "    <tr>\n",
       "      <th>3</th>\n",
       "      <td>19.219999</td>\n",
       "      <td>19.219999</td>\n",
       "      <td>2016-09-22</td>\n",
       "      <td>19.23</td>\n",
       "      <td>18.91</td>\n",
       "      <td>19.030001</td>\n",
       "      <td>THR</td>\n",
       "      <td>97000</td>\n",
       "    </tr>\n",
       "  </tbody>\n",
       "</table>\n",
       "</div>"
      ],
      "text/plain": [
       "   Adj_Close      Close       Date       High        Low       Open Symbol  \\\n",
       "0      18.83      18.83 2016-09-27  18.870001  18.530001      18.57    THR   \n",
       "1      18.66      18.66 2016-09-26  18.799999      18.58  18.790001    THR   \n",
       "2  18.780001  18.780001 2016-09-23      19.42      18.77      19.15    THR   \n",
       "3  19.219999  19.219999 2016-09-22      19.23      18.91  19.030001    THR   \n",
       "\n",
       "   Volume  \n",
       "0   65300  \n",
       "1   99600  \n",
       "2  121800  \n",
       "3   97000  "
      ]
     },
     "metadata": {},
     "output_type": "display_data"
    },
    {
     "name": "stdout",
     "output_type": "stream",
     "text": [
      "<class 'pandas.core.frame.DataFrame'>\n",
      "Int64Index: 253 entries, 0 to 252\n",
      "Data columns (total 8 columns):\n",
      "Adj_Close    253 non-null float64\n",
      "Close        253 non-null float64\n",
      "Date         253 non-null datetime64[ns]\n",
      "High         253 non-null float64\n",
      "Low          253 non-null float64\n",
      "Open         253 non-null float64\n",
      "Symbol       253 non-null object\n",
      "Volume       253 non-null int64\n",
      "dtypes: datetime64[ns](1), float64(5), int64(1), object(1)\n",
      "memory usage: 17.8+ KB\n",
      "None\n"
     ]
    },
    {
     "data": {
      "text/html": [
       "<div>\n",
       "<table border=\"1\" class=\"dataframe\">\n",
       "  <thead>\n",
       "    <tr style=\"text-align: right;\">\n",
       "      <th></th>\n",
       "      <th>Adj_Close</th>\n",
       "      <th>Close</th>\n",
       "      <th>Date</th>\n",
       "      <th>High</th>\n",
       "      <th>Low</th>\n",
       "      <th>Open</th>\n",
       "      <th>Symbol</th>\n",
       "      <th>Volume</th>\n",
       "    </tr>\n",
       "  </thead>\n",
       "  <tbody>\n",
       "    <tr>\n",
       "      <th>0</th>\n",
       "      <td>18.830000</td>\n",
       "      <td>18.830000</td>\n",
       "      <td>2016-09-27</td>\n",
       "      <td>18.870001</td>\n",
       "      <td>18.530001</td>\n",
       "      <td>18.570000</td>\n",
       "      <td>THR</td>\n",
       "      <td>65300</td>\n",
       "    </tr>\n",
       "    <tr>\n",
       "      <th>1</th>\n",
       "      <td>18.660000</td>\n",
       "      <td>18.660000</td>\n",
       "      <td>2016-09-26</td>\n",
       "      <td>18.799999</td>\n",
       "      <td>18.580000</td>\n",
       "      <td>18.790001</td>\n",
       "      <td>THR</td>\n",
       "      <td>99600</td>\n",
       "    </tr>\n",
       "    <tr>\n",
       "      <th>2</th>\n",
       "      <td>18.780001</td>\n",
       "      <td>18.780001</td>\n",
       "      <td>2016-09-23</td>\n",
       "      <td>19.420000</td>\n",
       "      <td>18.770000</td>\n",
       "      <td>19.150000</td>\n",
       "      <td>THR</td>\n",
       "      <td>121800</td>\n",
       "    </tr>\n",
       "    <tr>\n",
       "      <th>3</th>\n",
       "      <td>19.219999</td>\n",
       "      <td>19.219999</td>\n",
       "      <td>2016-09-22</td>\n",
       "      <td>19.230000</td>\n",
       "      <td>18.910000</td>\n",
       "      <td>19.030001</td>\n",
       "      <td>THR</td>\n",
       "      <td>97000</td>\n",
       "    </tr>\n",
       "  </tbody>\n",
       "</table>\n",
       "</div>"
      ],
      "text/plain": [
       "   Adj_Close      Close       Date       High        Low       Open Symbol  \\\n",
       "0  18.830000  18.830000 2016-09-27  18.870001  18.530001  18.570000    THR   \n",
       "1  18.660000  18.660000 2016-09-26  18.799999  18.580000  18.790001    THR   \n",
       "2  18.780001  18.780001 2016-09-23  19.420000  18.770000  19.150000    THR   \n",
       "3  19.219999  19.219999 2016-09-22  19.230000  18.910000  19.030001    THR   \n",
       "\n",
       "   Volume  \n",
       "0   65300  \n",
       "1   99600  \n",
       "2  121800  \n",
       "3   97000  "
      ]
     },
     "metadata": {},
     "output_type": "display_data"
    }
   ],
   "source": [
    "#print stock_historical\n",
    "stock_hist=pd.DataFrame(stock_historical)\n",
    "stock_hist['Date']=pd.to_datetime(stock_hist['Date'] )\n",
    "display(stock_hist.head(4))\n",
    "\n",
    "stock_hist['Date'] = stock_hist.Date.astype(np.int64)\n",
    "stock_hist['Adj_Close'] = stock_hist.Adj_Close.astype(np.float)\n",
    "stock_hist['Close'] = stock_hist.Close.astype(np.float)\n",
    "stock_hist['High'] = stock_hist.High.astype(np.float)\n",
    "stock_hist['Low'] = stock_hist.Low.astype(np.float)\n",
    "stock_hist['Open'] = stock_hist.Open.astype(np.float)\n",
    "stock_hist['Volume'] = stock_hist.Volume.astype(np.int64)\n",
    "stock_hist['Date']=pd.to_datetime(stock_hist['Date'] )\n",
    "print stock_hist.info()\n",
    "display(stock_hist.head(4))\n",
    "\n"
   ]
  },
  {
   "cell_type": "code",
   "execution_count": 7,
   "metadata": {
    "collapsed": false
   },
   "outputs": [
    {
     "data": {
      "image/png": "[encoded data removed]",
      "text/plain": [
       "<matplotlib.figure.Figure at 0x8be2b00>"
      ]
     },
     "metadata": {},
     "output_type": "display_data"
    }
   ],
   "source": [
    "#x = [date2num(date) for (date, value) in Adj_Close_historical]\n",
    "x = stock_hist['Date']\n",
    "\n",
    "#y = [value for (date, value) in Adj_Close_historical]\n",
    "y = stock_hist['Adj_Close']\n",
    "\n",
    "fig = plt.figure(figsize=(18,6))\n",
    "\n",
    "graph = fig.add_subplot(111)\n",
    "\n",
    "# Plot the data as a red line with round markers\n",
    "graph.plot(x,y,'b-o')\n",
    "\n",
    "# Set the labels for the xticks used to cooresponding date \n",
    "ticklabels= [num2date(i).strftime(\"%Y-%m-%d\") for i in graph.get_xticks().tolist()]\n",
    "graph.set_xticklabels(ticklabels)\n",
    "\n",
    "plt.show()\n",
    "plt.close()"
   ]
  },
  {
   "cell_type": "markdown",
   "metadata": {},
   "source": [
    "### EOF"
   ]
  }
 ],
 "metadata": {
  "kernelspec": {
   "display_name": "Python 2",
   "language": "python",
   "name": "python2"
  },
  "language_info": {
   "codemirror_mode": {
    "name": "ipython",
    "version": 2
   },
   "file_extension": ".py",
   "mimetype": "text/x-python",
   "name": "python",
   "nbconvert_exporter": "python",
   "pygments_lexer": "ipython2",
   "version": "2.7.11"
  }
 },
 "nbformat": 4,
 "nbformat_minor": 0
}
